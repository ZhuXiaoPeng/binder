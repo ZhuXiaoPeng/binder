{
  "nbformat": 4,
  "nbformat_minor": 0,
  "metadata": {
    "orig_nbformat": 2,
    "kernelspec": {
      "name": "python3",
      "display_name": "Python 3"
    },
    "colab": {
      "name": "test.ipynb",
      "provenance": [],
      "include_colab_link": true
    }
  },
  "cells": [
    {
      "cell_type": "markdown",
      "metadata": {
        "id": "view-in-github",
        "colab_type": "text"
      },
      "source": [
        "<a href=\"https://colab.research.google.com/github/ZhuXiaoPeng/binder/blob/master/colab.ipynb\" target=\"_parent\"><img src=\"https://colab.research.google.com/assets/colab-badge.svg\" alt=\"Open In Colab\"/></a>"
      ]
    },
    {
      "cell_type": "code",
      "metadata": {
        "tags": [],
        "id": "ZJOPsmG5WjAe",
        "colab_type": "code",
        "colab": {}
      },
      "source": [
        "import numpy as np \n",
        "from matplotlib import pyplot as plt \n",
        "\n",
        "ys = 200 + np.random.randn(100)\n",
        "x = [x for x in range(len(ys))]\n",
        "\n",
        "plt.plot(x, ys, '-')\n",
        "plt.fill_between(x, ys, 195, where=(ys > 195), facecolor='g', alpha=0.6)\n",
        "\n",
        "plt.title('Fills and Alpha Example')\n",
        "plt.show()\n"
      ],
      "execution_count": null,
      "outputs": []
    },
    {
      "cell_type": "code",
      "metadata": {
        "id": "eCugQgiaYjsV",
        "colab_type": "code",
        "colab": {}
      },
      "source": [
        "l = [1, 2, 3]\n",
        "l.__sizeof__()"
      ],
      "execution_count": null,
      "outputs": []
    },
    {
      "cell_type": "code",
      "metadata": {
        "id": "r1Tr4AjmYuvZ",
        "colab_type": "code",
        "colab": {}
      },
      "source": [
        "tup = (1, 2, 3)\n",
        "tup.__sizeof__()"
      ],
      "execution_count": null,
      "outputs": []
    },
    {
      "cell_type": "code",
      "metadata": {
        "id": "4T0zbN4DZLXx",
        "colab_type": "code",
        "colab": {}
      },
      "source": [
        "l = []\n",
        "l.__sizeof__()"
      ],
      "execution_count": null,
      "outputs": []
    },
    {
      "cell_type": "code",
      "metadata": {
        "id": "wY3VYZHiozJ8",
        "colab_type": "code",
        "colab": {}
      },
      "source": [
        "import timeit\n",
        "t1 = timeit.timeit('a=list()',number=10000)\n",
        "t2 = timeit.timeit('a=[]',number=10000)\n",
        "t3 = timeit.timeit('a=()',number=10000)\n",
        "print(str(t1) + '\\n' + str(t2) + '\\n' + str(t3))"
      ],
      "execution_count": null,
      "outputs": []
    }
  ]
}